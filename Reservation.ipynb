{
  "nbformat": 4,
  "nbformat_minor": 0,
  "metadata": {
    "colab": {
      "name": "Untitled1.ipynb",
      "provenance": [],
      "authorship_tag": "ABX9TyM/a5T02wnb4dqBZYxs8xpt",
      "include_colab_link": true
    },
    "kernelspec": {
      "name": "python3",
      "display_name": "Python 3"
    },
    "language_info": {
      "name": "python"
    }
  },
  "cells": [
    {
      "cell_type": "markdown",
      "metadata": {
        "id": "view-in-github",
        "colab_type": "text"
      },
      "source": [
        "<a href=\"https://colab.research.google.com/github/SergeyS1954/SergeyS1954/blob/main/Reservation.ipynb\" target=\"_parent\"><img src=\"https://colab.research.google.com/assets/colab-badge.svg\" alt=\"Open In Colab\"/></a>"
      ]
    },
    {
      "cell_type": "markdown",
      "source": [
        "Нагруженное резервирование с неограниченным восстановлением ($\\rho_0 = 2\\rho,  \\rho_1 = \\frac{1}{2}\\rho$).\n",
        "\n",
        "$K_{г1} = \\frac{1 + 2\\rho}{1 + 2\\rho + \\rho^2}. $ \n",
        " \n",
        "\n",
        "Нагруженное резервирование с ограниченным восстановлением ($\\rho_0 = 2\\rho,  \\rho_1 = \\rho$).\n",
        "\n",
        "$  K_{г2} = \\frac{1 + 2\\rho}{1 + 2\\rho + 2\\rho^2}.  \n",
        "$"
      ],
      "metadata": {
        "id": "Ac7w_32ULr9q"
      }
    },
    {
      "cell_type": "code",
      "execution_count": null,
      "metadata": {
        "id": "q1dq-uNYLqF_"
      },
      "outputs": [],
      "source": [
        ""
      ]
    }
  ]
}