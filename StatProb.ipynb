{
  "nbformat": 4,
  "nbformat_minor": 0,
  "metadata": {
    "colab": {
      "name": "Untitled2.ipynb",
      "provenance": [],
      "authorship_tag": "ABX9TyOJJNF6bLWxgcDAbd+FRcha",
      "include_colab_link": true
    },
    "kernelspec": {
      "name": "python3",
      "display_name": "Python 3"
    },
    "language_info": {
      "name": "python"
    }
  },
  "cells": [
    {
      "cell_type": "markdown",
      "metadata": {
        "id": "view-in-github",
        "colab_type": "text"
      },
      "source": [
        "<a href=\"https://colab.research.google.com/github/SergeyS1954/SergeyS1954/blob/main/StatProb.ipynb\" target=\"_parent\"><img src=\"https://colab.research.google.com/assets/colab-badge.svg\" alt=\"Open In Colab\"/></a>"
      ]
    },
    {
      "cell_type": "code",
      "execution_count": null,
      "metadata": {
        "id": "S-XRYvhvfTMX"
      },
      "outputs": [],
      "source": [
        "import matplotlib.pyplot as plt\n",
        "import numpy as np\n",
        "ro = np.arange (0.01, 2.0, 0.01)\n",
        "pi0 = 1/(1 + 2*ro + 2*ro**2)\n",
        "pi1 = (2*ro)/(1 + 2*ro + 2*ro**2)\n",
        "pi2 = (2*ro**2)/(1 + 2*ro + 2*ro**2)\n",
        "plt.plot(ro,pi0, label = r\" $\\pi_0$\")\n",
        "plt.plot(ro,pi1, linestyle = ':', label = r\" $\\pi_1$\")\n",
        "plt.plot(ro,pi2, linestyle = '--', label = r\" $\\pi_2$\")\n",
        "plt.title('Расчет стационарных вероятностей')  \n",
        "plt.grid(True)\n",
        "plt.legend()\n",
        "plt.show()"
      ]
    }
  ]
}