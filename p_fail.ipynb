{
  "nbformat": 4,
  "nbformat_minor": 0,
  "metadata": {
    "colab": {
      "name": "Untitled0.ipynb",
      "provenance": [],
      "authorship_tag": "ABX9TyNfAFVqGpTmrmCehFx7EzlA",
      "include_colab_link": true
    },
    "kernelspec": {
      "name": "python3",
      "display_name": "Python 3"
    },
    "language_info": {
      "name": "python"
    }
  },
  "cells": [
    {
      "cell_type": "markdown",
      "metadata": {
        "id": "view-in-github",
        "colab_type": "text"
      },
      "source": [
        "<a href=\"https://colab.research.google.com/github/SergeyS1954/SergeyS1954/blob/main/p_fail.ipynb\" target=\"_parent\"><img src=\"https://colab.research.google.com/assets/colab-badge.svg\" alt=\"Open In Colab\"/></a>"
      ]
    },
    {
      "cell_type": "code",
      "execution_count": null,
      "metadata": {
        "id": "rmOhixbjbmXC"
      },
      "outputs": [],
      "source": [
        "import numpy as np\n",
        "import matplotlib.pyplot as plt "
      ]
    },
    {
      "cell_type": "markdown",
      "source": [
        "Вероятность безотказной работы является функцией времени и изменяется с увеличением времени работы системы.\n",
        "\t\n",
        "Обозначим через $\\xi$ случайную величину времени  работы системы до первого отказа. Тогда вероятность безотказной работы системы на полуинтервале $[0,t)$ определяется соотношением\n",
        "\t\n",
        "$$  \\mathbb P(t \\geq \\xi) = 1 - F_{\\xi}(t), $$\n",
        "где $F_{\\xi}(t)$ --- функция распределения случайной величины $\\xi$.\n"
      ],
      "metadata": {
        "id": "QRWZbR33b77I"
      }
    },
    {
      "cell_type": "markdown",
      "source": [
        "Для экспоненциально распределенной случайной величины вероятность безотказной работы в течение времени $T_{0}$ вычисляется как  $$\\mathbf{P}_{без} = e^{-\\lambda T_{0}}$$, где $$ \\lambda = \\frac{1}{T_{отк}} (час^{-1}).$$"
      ],
      "metadata": {
        "id": "J5lcKDR2grTb"
      }
    },
    {
      "cell_type": "code",
      "source": [
        "lam =1/(10**(4))\n",
        "x = np.arange (10, 10000.0, 100)\n",
        "y1 = np.exp(-lam*x)\n",
        "y2 = np.exp(-lam*2*x)\n",
        "plt.plot(x,y1, label = r\" $\\lambda_1 = 10^{-4}$\")\n",
        "plt.plot(x,y2, linestyle = ':', label = r\" $\\lambda_2 = 2*10^{-4}$\")\n",
        "plt.legend()\n",
        "plt.show()\n"
      ],
      "metadata": {
        "id": "uhVlUK_6cLZU",
        "colab": {
          "base_uri": "https://localhost:8080/",
          "height": 265
        },
        "outputId": "082817b7-2c7b-4244-f08b-ab8ea692bf8e"
      },
      "execution_count": 5,
      "outputs": [
        {
          "output_type": "display_data",
          "data": {
            "image/png": "[encoded data removed]",
            "text/plain": [
              "<Figure size 432x288 with 1 Axes>"
            ]
          },
          "metadata": {
            "needs_background": "light"
          }
        }
      ]
    }
  ]
}